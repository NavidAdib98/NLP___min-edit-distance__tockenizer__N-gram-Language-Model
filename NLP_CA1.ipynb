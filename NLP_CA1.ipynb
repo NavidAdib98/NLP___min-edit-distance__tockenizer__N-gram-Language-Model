{
 "cells": [
  {
   "cell_type": "markdown",
   "metadata": {
    "id": "cover_header",
    "jp-MarkdownHeadingCollapsed": true
   },
   "source": [
    "<div style=\"text-align: center; padding: 20px; font-family: Vazir;\">\n",
    "<h1 align=\"center\" style=\"font-size: 28px; color:rgb(64, 244, 202); width: 100%;\">⚜️━━━━━━━━━━━━━━━━━━━━━━━━━━━━━━━━━━━━━━━━━━━━━━━━━━━━━━━━━⚜️<br>تمرین 1<br>⚜️━━━━━━━━━━━━━━━━━━━━━━━━━━━━━━━━━━━━━━━━━━━━━━━━━━━━━━━━━⚜️</h1>\n",
    "<h2 dir='rtl' style=\"color:rgb(90, 255, 184); font-size: 20px;\">آشنایی با توکنایزرها و N-gram</h2>\n",
    "<p align=\"center\" style=\"color: #666; font-size: 16px;\">شهرزاد آذری آزاد - فرشاد حسامی</p>\n",
    "<p align=\"center\" style=\"color: #666; font-size: 16px; margin-bottom: 30px;\">shahrzad.azari@ut.ac.ir - farshad.hessami@ut.ac.ir</p>\n",
    "\n",
    "<div dir='rtl' style=\"border: 2px dashed rgb(90, 255, 184); border-radius: 8px; padding: 20px; margin: 20px auto; max-width: 500px; text-align: right;\">\n",
    "<p dir='rtl' style=\"color: rgb(64, 244, 202); font-size: 18px; margin-bottom: 15px;\">📝 مشخصات دانشجو:</p>\n",
    "<p dir='rtl' style=\"color: #666; margin: 5px;\">نام و نام خانوادگی: نوید ادیب</p>\n",
    "<p dir='rtl' style=\"color: #666; margin: 5px;\">شماره دانشجویی: 810104004</p>\n",
    "<p dir='rtl' style=\"color: #666; margin: 5px;\">تاریخ ارسال: {{تاریخ_ارسال}}</p>\n",
    "</div>\n",
    "</div>\n",
    "\n",
    "<div dir=\"rtl\" style=\"text-align: justify; padding: 25px; background-color:#6B7280;  border-radius: 12px; border: 2px solid rgb(2, 34, 22); font-family: Vazir; max-width: 100%;word-wrap: break-word;\">\n",
    "<div style=\"line-height: 2.0; font-size: 17px; color: black; font-family: Vazir;\">\n",
    "<div style=\"padding-right:40px\">\n",
    "در بخش‌های مختلف این تمرین با مفاهیم Tokenization, Regular Expression , N-gram Language Modeling آشنا می‌شوید و آن‌ها را پیاده‌سازی می‌کنید. \n",
    "</div>\n",
    "<br>\n",
    "<div style=\"padding-right:100px\">\n",
    "📋 <b>ساختار تمرین:</b>\n",
    "<li><b>سوال اول - <span dir=\"ltr\">Regular Expression & Min Distance</span> (20)</b></li>\n",
    "<ul>\n",
    "<li>بخش اول: تشخیص ایمیل‌های قابل قبول با Regex</li>\n",
    "<li>بخش دوم: پیاده‌سازی Auto-Correction با Minimum Edit Distance</li>\n",
    "</ul>\n",
    "<li><b>سوال دوم - <span dir=\"ltr\">Tokenization</span> (25)</b></li>\n",
    "<ul>\n",
    "<li>بخش اول: Rule-based Tokenizer</li>\n",
    "<li>بخش دوم: BPE Tokenizer</li>\n",
    "<li>بخش سوم: Wordpiece Tokenizer</li>\n",
    "<li>بخش چهارم: Tokenization Visualization</li>\n",
    "</ul>\n",
    "<li><b>سوال سوم - <span dir=\"ltr\">N-gram Language Modeling</span> (55)</b></li>\n",
    "<ul>\n",
    "<li>بخش اول: Data cleaning & Tokenization</li>\n",
    "<li>بخش دوم: پیاده‌سازی N-gram</li>\n",
    "<li>بخش سوم: معیار Perplexity</li>\n",
    "<li>بخش چهارم: روش‌های هموارسازی</li>\n",
    "<li>بخش پنجم: شبیه‌سازی Temperature با روش‌های هموارسازی</li>\n",
    "</ul>\n",
    "</div>\n",
    "</div>\n",
    "<div dir='rtl' style=\"line-height: 1.8; font-family: Vazir; font-size: 16px; margin-top: 20px; background-color: #e8eaf6; padding: 15px; border-radius: 8px; color:black\">\n",
    "💡 <b>نکات مهم:</b>\n",
    "<br>\n",
    "در متن سوالات، بخش‌هایی که در آن‌ها مجاز به استفاده از کتابخانه‌های آماده هستید ذکر شده است.\n",
    "</div>\n",
    "</div>"
   ]
  },
  {
   "cell_type": "markdown",
   "metadata": {},
   "source": [
    "# <div style=\"text-align: center; direction: rtl; font-family: Vazir;\"><h1 align=\"center\" style=\"font-size: 24px; padding: 20px;\">⚜️━━━━━━━━━━━━━━━━━━━━━━━━━━━━━━━━━━━━━━━━━━━━━━━━━━━━━━━━━⚜️<br>سوال اول - <span dir=\"ltr\">Regular Expression & Min Distance</span> (20)<br>⚜️━━━━━━━━━━━━━━━━━━━━━━━━━━━━━━━━━━━⚜️</h1></div>\n"
   ]
  },
  {
   "cell_type": "markdown",
   "metadata": {},
   "source": [
    "<p dir=\"rtl\" style=\"text-align: right; padding:30px; background-color:rgb(12, 12, 12); border-radius: 12px; color: white; font-family: Vazir;\">\n",
    "در این سوال شما با نمونه‌هایی عملی از استفاده‌ی Regex و همینطور Minimum Distance مواجه می‌شوید. در بخش اول این سوال، شما باید ایمیل‌های قابل‌قبول را تشخیص داده و در بخش دوم سوال شما با استفاده از Minimum Distance یک سیستم Auto-Correction ساده را پیاده‌سازی خواهید کرد.\n"
   ]
  },
  {
   "cell_type": "markdown",
   "metadata": {},
   "source": [
    "## <div style=\"text-align: center; direction: rtl; font-family: Vazir;\">تشخیص ایمیل‌های قابل قبول با Regex</div>\n"
   ]
  },
  {
   "cell_type": "markdown",
   "metadata": {},
   "source": [
    "<p dir=\"rtl\" style=\"line-height: 1.8; text-align: right; padding:10px; background-color:#6B7280;  border-radius: 12px; border: 2px solid rgb(2, 34, 22); font-family: Vazir;\">\n",
    "فایل emails.txt که در اختیار شما قرار داده‌شده، شامل تعدادی اسم به‌همراه ایمیل ثبت‌شده‌‌شان در یک سامانه می‌باشد.\n",
    "<br>\n",
    "از شما خواسته‌شده است تا ایمیل‌هایی که معتبر هستند را با استفاده از regex مشخص کنید.\n",
    "<br>\n",
    "ایمیل از دو بخش تشکیل می‌شود. که با @ از هم جدا می‌شوند. بخش اول (قبل از @) local-part نام دارد و بخش دوم domain.\n",
    "<br>\n",
    "منظور از ایمیل معتبر این است که موارد زیر در آن‌ها رعایت شده‌باشند:\n",
    "<br>\n",
    "۱. دو بخش ایمیل با یک و تنها یک @ از هم جدا شده‌باشند.\n",
    "<br>\n",
    "۲. در local-part هم نام و هم نام خانوادگی شخص وجود داشته باشد.\n",
    "<br>\n",
    "۳. در local-part تنها حروف انگلیسی، اعداد و کاراکترهای -،_ و . مجاز هستند. همچنین دو نقطه نمی‌توانند پشت هم بیایند.\n",
    "<br>\n",
    "۴. در بخش domain یک میزبان داریم و یک پسوند. میزبان و پسوند همیشه با یک نقطه از یکدیگر جدا می‌شوند. (میزبان می‌تواند در خود نقطه داشته باشد، اما دو نقطه‌ی متوالی در domain مجاز نیست.)\n",
    "<br>\n",
    "۵. پسوند از حروف انگلیسی تشکیل می‌شود و حداقل دو کاراکتر دارد.\n",
    "</p>\n"
   ]
  },
  {
   "cell_type": "markdown",
   "metadata": {},
   "source": [
    "<p dir='rtl' style=\"line-height: 2.0; text-align: right; font-family: Vazir; font-size: 16px; margin-top: 20px; color: white; background-color:rgb(0, 40, 30); padding: 30px; border-radius: 8px;\">\n",
    "🎯 <b>خروجی مورد انتظار:</b><br>\n",
    "- لیست ایمیل‌های قابل قبول موجود در فایل emails.txt\n",
    "</p>"
   ]
  },
  {
   "cell_type": "code",
   "execution_count": 28,
   "metadata": {},
   "outputs": [
    {
     "name": "stdout",
     "output_type": "stream",
     "text": [
      "✅ Valid Emails:\n",
      "milad.fattahi@uni.ir\n",
      "parsa.golkar@host.ir\n",
      "moradi.reza@uni.ir\n",
      "niloufarheidari@lab.ir\n",
      "mahsa_akbari@domain.com\n",
      "ali.rezaei@example.com\n",
      "zarei-farhad@host.ir\n",
      "hamed.jalali@net.com\n",
      "ramin.shafiei@project.net\n",
      "sadeghi.laleh@work.ir\n",
      "nouri.pouya@mail.ir\n",
      "elhamdavari@office.net\n",
      "behnam.khatibi@mail.org\n",
      "sara.soleimani@host.ir\n",
      "shirin_hashemi@domain.com\n",
      "arman.khalili@school.ir\n",
      "rahaesfandiari@company.com\n",
      "kiana.ghasemi@uni.edu\n",
      "navid_khodadadi@research.org\n",
      "mehrdad.ebrahimi@example.org\n",
      "raminshafiei@project.net\n",
      "hamedjalali@domain.org\n"
     ]
    }
   ],
   "source": [
    "import re\n",
    "\n",
    "# -----------------------------\n",
    "# Regex pattern نهایی\n",
    "# -----------------------------\n",
    "pattern = re.compile(\n",
    "    r'^'                                    # ابتدای رشته\n",
    "    r'(?!.*\\.\\.)'                            # جلوگیری از دو نقطه پشت سر هم در کل رشته\n",
    "    r'name=([A-Za-z]+)\\s+([A-Za-z]+),'      # capture نام و نام خانوادگی\n",
    "    r'\\s*email='\n",
    "    r'(?:(?=.*\\1)(?=.*\\2)[A-Za-z0-9._-]+)' # local-part شامل نام و نام خانوادگی، حروف، اعداد و کاراکترهای مجاز\n",
    "    r'@[A-Za-z0-9]+(?:\\.[A-Za-z0-9]+)*'    # دامنه و زیردامنه‌ها\n",
    "    r'\\.[A-Za-z]{2,}'                       # پسوند حداقل دو حرف\n",
    "    r'$',\n",
    "    re.IGNORECASE                           # حساسیت به بزرگ و کوچک بودن حروف حذف شده\n",
    ")\n",
    "\n",
    "# -----------------------------\n",
    "# لیست برای ایمیل‌های معتبر\n",
    "# -----------------------------\n",
    "valid_emails = []\n",
    "\n",
    "# -----------------------------\n",
    "# خواندن فایل emails.txt و بررسی هر خط\n",
    "# -----------------------------\n",
    "with open(\"emails.txt\", \"r\", encoding=\"utf-8\") as file:\n",
    "    for line in file:\n",
    "        line = line.strip()  # حذف فاصله و newline اضافی\n",
    "        match = pattern.match(line)\n",
    "        if match:\n",
    "            # گرفتن ایمیل از خط\n",
    "            email = match.group(3) if len(match.groups()) > 2 else line.split(\"email=\")[1]\n",
    "            valid_emails.append(email)\n",
    "\n",
    "# -----------------------------\n",
    "# چاپ ایمیل‌های معتبر\n",
    "# -----------------------------\n",
    "print(\"✅ Valid Emails:\")\n",
    "for email in valid_emails:\n",
    "    print(email)"
   ]
  },
  {
   "cell_type": "markdown",
   "metadata": {},
   "source": [
    "<p dir=\"rtl\" style=\"line-height: 1.8; text-align: right; padding:10px; background-color:#6B7280;  border-radius: 12px; border: 2px solid rgb(2, 34, 22); font-family: Vazir;\">\n",
    "در این بخش باید با استفاده از Regex یک تابع بنویسید که اسم یک شخص را به‌عنوان ورودی دریافت کند و درصورت وجود ایمیل معتبر برای این اسم در بین ایمیل‌های ثبت‌شده، ایمیل را برگرداند. در غیر این‌صورت، یک پیغام عدم وجود چاپ کند.\n",
    "<br>\n",
    "توجه: ممکن است ایمیل این اشخاص، تحت نام شخص دیگری ثبت شده باشد. کار شما این است که ایمیل معتبر این افراد را از بین تمام ایمیل‌ها پیدا کنید.\n",
    "<br>\n",
    "تابع را با ورودی‌های زیر اجرا کنید:\n",
    "<span dir=\"ltr\" style=\"text-align: left; display: block;\">\n",
    "name1 = Behnam Khatibi\n",
    "</span>\n",
    "<span dir=\"ltr\" style=\"text-align: left; display: block;\">\n",
    "name2 = Mehrdad Ebrahimi\n",
    "</span>\n",
    "</p>\n"
   ]
  },
  {
   "cell_type": "markdown",
   "metadata": {},
   "source": [
    "<p dir='rtl' style=\"line-height: 2.0; text-align: right; font-family: Vazir; font-size: 16px; margin-top: 20px; color: white; background-color:rgb(0, 40, 30); padding: 30px; border-radius: 8px;\">\n",
    "🎯 <b>خروجی مورد انتظار:</b><br>\n",
    "- ایمیل‌های معتبر مربوط به افراد ذکر شده در توضیحات\n",
    "</p>"
   ]
  },
  {
   "cell_type": "code",
   "execution_count": 20,
   "metadata": {},
   "outputs": [],
   "source": [
    "# WRITE YOUR CODE HERE\n"
   ]
  },
  {
   "cell_type": "markdown",
   "metadata": {},
   "source": [
    "## <div style=\"text-align: center; direction: rtl; font-family: Vazir;\">پیاده‌سازی Auto-Correction با Minimum Edit Distance</div>\n"
   ]
  },
  {
   "cell_type": "markdown",
   "metadata": {},
   "source": [
    "<p dir=\"rtl\" style=\"line-height: 1.8; text-align: right; padding:10px; background-color:#6B7280;  border-radius: 12px; border: 2px solid rgb(2, 34, 22); font-family: Vazir;\">\n",
    "۱. ابتدا الگوریتم levenshtein_distance را پیاده‌سازی کنید و با استفاده از آن minimum_distance بین کلمات زیر را به‌دست آورید.\n",
    "<span dir=\"ltr\" style=\"text-align: left; display: block;\">\n",
    "pair1 = \"Athletic\", \"Atlantic\"\n",
    "</span>\n",
    "<span dir=\"ltr\" style=\"text-align: left; display: block;\">\n",
    "pair2 = \"London\", \"Boston\"\n",
    "</span>\n",
    "<span dir=\"ltr\" style=\"text-align: left; display: block;\">\n",
    "pair3 = \"Action\", \"Compact\"\n",
    "</span>\n",
    "<span dir=\"ltr\" style=\"text-align: left; display: block;\">\n",
    "pair3 = \"\", \"Sting\"\n",
    "</span>\n",
    "</p>\n"
   ]
  },
  {
   "cell_type": "markdown",
   "metadata": {},
   "source": [
    "<p dir='rtl' style=\"line-height: 2.0; text-align: right; font-family: Vazir; font-size: 16px; margin-top: 20px; color: white; background-color:rgb(0, 40, 30); padding: 30px; border-radius: 8px;\">\n",
    "🎯 <b>خروجی مورد انتظار:</b><br>\n",
    "- مقدار minimum distance بین جفت کلمه‌های داده‌شده در بخش توضیحات\n",
    "</p>"
   ]
  },
  {
   "cell_type": "code",
   "execution_count": null,
   "metadata": {},
   "outputs": [],
   "source": [
    "# WRITE YOUR CODE HERE\n"
   ]
  },
  {
   "cell_type": "markdown",
   "metadata": {},
   "source": [
    "<p dir=\"rtl\" style=\"line-height: 1.8; text-align: right; padding:10px; background-color:#6B7280;  border-radius: 12px; border: 2px solid rgb(2, 34, 22); font-family: Vazir;\">\n",
    "۲. بعد از پیاده‌سازی minimum distance حال باید با استفاده از آن، جمله‌ی زیر را اصلاح املایی کنید. در این جمله تعدادی کلمه وجود دارند که املایشان نادرست است. یک لیست از املای صحیح کلمات که کلمات این جمله را نیز شامل می‌شوند در فایل vocab.txt موجود هستند.\n",
    "<span dir=\"ltr\" style=\"text-align: left; display: block;\">\n",
    "sentence_to_be_corrected = \n",
    "\"helo studnts at the universty are wrting ther frst edit distnce algorthm in pythn, and they reely enjy it!\"\n",
    "</span>\n",
    "</p>\n"
   ]
  },
  {
   "cell_type": "markdown",
   "metadata": {},
   "source": [
    "<p dir='rtl' style=\"line-height: 2.0; text-align: right; font-family: Vazir; font-size: 16px; margin-top: 20px; color: white; background-color:rgb(0, 40, 30); padding: 30px; border-radius: 8px;\">\n",
    "🎯 <b>خروجی مورد انتظار:</b><br>\n",
    "- اصلاح‌شده‌ی جمله‌ی داده‌شده در بخش توضیحات با کمک فایل vocab.txt\n",
    "</p>"
   ]
  },
  {
   "cell_type": "code",
   "execution_count": null,
   "metadata": {},
   "outputs": [],
   "source": [
    "# WRITE YOUR CODE HERE\n"
   ]
  },
  {
   "cell_type": "markdown",
   "metadata": {
    "id": "section1_title"
   },
   "source": [
    "# <div style=\"text-align: center; direction: rtl; font-family: Vazir;\"><h1 align=\"center\" style=\"font-size: 24px; padding: 20px;\">⚜️━━━━━━━━━━━━━━━━━━━━━━━━━━━━━━━━━━━━━━━━━━━━━━━━━━━━━━━━━⚜️<br>سوال دوم - <span dir=\"ltr\">Tokenization</span> (25)<br>⚜️━━━━━━━━━━━━━━━━━━━━━━━━━━━━━━━━━━━⚜️</h1></div>\n"
   ]
  },
  {
   "cell_type": "markdown",
   "metadata": {},
   "source": [
    "<p dir=\"rtl\" style=\"text-align: right; padding:30px; background-color:rgb(12, 12, 12); border-radius: 12px; color: white; font-family: Vazir;\">\n",
    "در این سوال، با انواع مختلف توکنایزر و روش  پیاده‌سازی آن‌ها آشنا می‌شوید.\n",
    "</p>\n"
   ]
  },
  {
   "cell_type": "markdown",
   "metadata": {
    "id": "section2_title"
   },
   "source": [
    "## <div style=\"text-align: center; direction: rtl; font-family: Vazir;\">Rule-based Tokenizer</div>\n"
   ]
  },
  {
   "cell_type": "markdown",
   "metadata": {
    "id": "section2_desc"
   },
   "source": [
    "<p dir=\"rtl\" style=\"line-height: 1.8; text-align: right; padding:10px; background-color:#6B7280;  border-radius: 12px; border: 2px solid rgb(2, 34, 22); font-family: Vazir;\">\n",
    "با کمک دستورات regex یک توکنایزر بنویسید که متن را با استفاده از علائم نگارشی تقسیم کند.\n",
    "<br>\n",
    "سپس عملکرد آن را بر روی جملات داده شده زیر آزمایش کنید.\n",
    "<span dir=\"ltr\" style=\"text-align: left; display: block;\">\n",
    "\"Hello, world! NLP is fun.\"\n",
    "</span>\n",
    "<span dir=\"ltr\" style=\"text-align: left; display: block;\">\n",
    "\"That U.S.A. poster-print costs $12.40...\"\n",
    "</span>\n",
    "</p>\n"
   ]
  },
  {
   "cell_type": "markdown",
   "metadata": {
    "id": "section2_desc"
   },
   "source": [
    "<p dir='rtl' style=\"line-height: 2.0; text-align: right; font-family: Vazir; font-size: 16px; margin-top: 20px; color: white; background-color:rgb(0, 40, 30); padding: 30px; border-radius: 8px;\">\n",
    "🎯 <b>خروجی مورد انتظار:</b><br>\n",
    "- تعداد و لیست توکن‌های ایجادشده با توکنایزر صورت سوال برای هر جمله<br>\n",
    "</p>"
   ]
  },
  {
   "cell_type": "code",
   "execution_count": null,
   "metadata": {
    "id": "section2_code_1"
   },
   "outputs": [],
   "source": [
    "# WRITE YOUR CODE HERE\n"
   ]
  },
  {
   "cell_type": "markdown",
   "metadata": {},
   "source": [
    "<p dir=\"rtl\" style=\"line-height: 1.8; text-align: right; padding:10px; background-color:#6B7280;  border-radius: 12px; border: 2px solid rgb(2, 34, 22); font-family: Vazir;\">\n",
    "ایرادات این توکنایزر چیست؟\n",
    "<br>\n",
    "چند راه‌حل برای بهبود عملکرد این توکنایزر ارائه دهید.\n",
    "<br>\n",
    "یکی از آن‌ها را پیاده‌سازی کنید.\n",
    "<br>\n",
    "عملکرد توکنایزر جدید را بر روی جملات داده شده آزمایش کنید.\n",
    "<span dir=\"ltr\" style=\"text-align: left; display: block;\">\n",
    "\"Hello, world! NLP is fun.\"\n",
    "</span>\n",
    "<span dir=\"ltr\" style=\"text-align: left; display: block;\">\n",
    "\"That U.S.A. poster-print costs $12.40...\"\n",
    "</span>\n",
    "</p>\n"
   ]
  },
  {
   "cell_type": "markdown",
   "metadata": {},
   "source": [
    "<p dir='rtl' style=\"line-height: 2.0; text-align: right; font-family: Vazir; font-size: 16px; margin-top: 20px; color: white; background-color:rgb(0, 40, 30); padding: 30px; border-radius: 8px;\">\n",
    "🎯 <b>خروجی مورد انتظار:</b><br>\n",
    "- تعداد و لیست توکن‌های ایجادشده با توکنایزر بهبودیافته برای هر جمله\n",
    "</p>"
   ]
  },
  {
   "cell_type": "code",
   "execution_count": null,
   "metadata": {},
   "outputs": [],
   "source": [
    "# WRITE YOUR CODE HERE\n"
   ]
  },
  {
   "cell_type": "markdown",
   "metadata": {
    "id": "section2_answer_1"
   },
   "source": [
    "<p dir='rtl' style='background:#fffbe6; font-family: Vazir; border:1px dashed #f0ad4e; padding:12px; border-radius:8px; color:#111'>\n",
    "✍️ <b>پاسخ تشریحی زیربخش اول:</b><br>\n",
    "{{پاسخ_خود_را_اینجا_بنویسید}}\n",
    "</p>\n"
   ]
  },
  {
   "cell_type": "markdown",
   "metadata": {
    "id": "section2_title"
   },
   "source": [
    "## <div style=\"text-align: center; direction: rtl; font-family: Vazir;\">BPE Tokenizer</div>\n"
   ]
  },
  {
   "cell_type": "markdown",
   "metadata": {
    "id": "section2_desc"
   },
   "source": [
    "<p dir=\"rtl\" style=\"line-height: 1.8; text-align: right; padding:10px; background-color:#6B7280;  border-radius: 12px; border: 2px solid rgb(2, 34, 22); font-family: Vazir;\">\n",
    "ابتدا دیتاست TinyStories-Farsi را از HuggingFace لود کنید.\n",
    "<a href=\"https://huggingface.co/datasets/taesiri/TinyStories-Farsi\" target=\"_blank\" rel=\"noopener noreferrer\" style=\"color: #9EEAD2; text-decoration: underline;\">\n",
    "    (لینک دیتاست)\n",
    "</a>\n",
    "<br>\n",
    "سپس از داده آموزش (train) آن جملات فارسی را در یک لیست اضافه کنید.\n",
    "<br>\n",
    "اکنون با استفاده از این مجموعه داده، یک توکنایزر BPE آموزش دهید. استفاده از کتابخانه‌های آماده مانعی ندارد.\n",
    "<br>\n",
    "عملکرد توکنایزر را روی جمله زیر آزمایش کنید:\n",
    "<br>\n",
    "\"روزی یک مرد ثروتمند، پسر بچه کوچکش را بـه ده برد تا بـه او نشان دهد مردمی که در آنجا زندگی می‌کنند، چقدر فقیر هستند.\"\n",
    "</p>\n"
   ]
  },
  {
   "cell_type": "markdown",
   "metadata": {
    "id": "section2_desc"
   },
   "source": [
    "<p dir='rtl' style=\"line-height: 2.0; text-align: right; font-family: Vazir; font-size: 16px; margin-top: 20px; color: white; background-color:rgb(0, 40, 30); padding: 30px; border-radius: 8px;\">\n",
    "🎯 <b>خروجی مورد انتظار:</b><br>\n",
    "- مجموعه داده آموزش<br>\n",
    "- تعداد و لیست توکن‌های ایجادشده برای جمله\n",
    "</p>"
   ]
  },
  {
   "cell_type": "code",
   "execution_count": null,
   "metadata": {
    "id": "section2_code_1"
   },
   "outputs": [],
   "source": [
    "# WRITE YOUR CODE HERE\n"
   ]
  },
  {
   "cell_type": "markdown",
   "metadata": {},
   "source": [
    "## <div style=\"text-align: center; direction: rtl; font-family: Vazir;\">Wordpiece Tokenizer</div>\n"
   ]
  },
  {
   "cell_type": "markdown",
   "metadata": {},
   "source": [
    "<p dir=\"rtl\" style=\"line-height: 1.8; text-align: right; padding:10px; background-color:#6B7280;  border-radius: 12px; border: 2px solid rgb(2, 34, 22); font-family: Vazir;\">\n",
    "درباره Wordpiece Tokenizer تحقیق کنید.\n",
    "<br>\n",
    "نحوه آموزش این توکنایزر را به طور دقیق شرح دهید و سپس آن را با BPE مقایسه کنید.\n",
    "<br>\n",
    "اکنون یک توکنایزر Wordpiece بر روی مجموعه داده خود آموزش دهید. استفاده از کتابخانه‌های آماده مانعی ندارد.\n",
    "<br>\n",
    "عملکرد توکنایزر را روی جمله زیر آزمایش کنید:\n",
    "<br>\n",
    "\"روزی یک مرد ثروتمند، پسر بچه کوچکش را بـه ده برد تا بـه او نشان دهد مردمی که در آنجا زندگی می‌کنند، چقدر فقیر هستند.\"\n",
    "</p>"
   ]
  },
  {
   "cell_type": "markdown",
   "metadata": {},
   "source": [
    "<p dir='rtl' style=\"line-height: 2.0; text-align: right; font-family: Vazir; font-size: 16px; margin-top: 20px; color: white; background-color:rgb(0, 40, 30); padding: 30px; border-radius: 8px;\">\n",
    "🎯 <b>خروجی مورد انتظار:</b><br>\n",
    "- تعداد و لیست توکن‌های ایجادشده برای جمله\n",
    "</p>"
   ]
  },
  {
   "cell_type": "code",
   "execution_count": null,
   "metadata": {},
   "outputs": [],
   "source": [
    "# WRITE YOUR CODE HERE\n"
   ]
  },
  {
   "cell_type": "markdown",
   "metadata": {},
   "source": [
    "<p dir='rtl' style='background:#fffbe6; font-family: Vazir; border:1px dashed #f0ad4e; padding:12px; border-radius:8px; color:#111'>\n",
    "✍️ <b>پاسخ تشریحی زیربخش سوم:</b><br>\n",
    "{{پاسخ_خود_را_اینجا_بنویسید}}\n",
    "</p>\n"
   ]
  },
  {
   "cell_type": "markdown",
   "metadata": {},
   "source": [
    "## <div style=\"text-align: center; direction: rtl; font-family: Vazir;\">Tokenization Visualization</div>\n"
   ]
  },
  {
   "cell_type": "markdown",
   "metadata": {},
   "source": [
    "<p dir=\"rtl\" style=\"line-height: 1.8; text-align: right; padding:10px; background-color:#6B7280;  border-radius: 12px; border: 2px solid rgb(2, 34, 22); font-family: Vazir;\">\n",
    "با استفاده از ابزار \n",
    "<a href=\"https://tiktokenizer.vercel.app/\" target=\"_blank\" rel=\"noopener noreferrer\" style=\"color: #9EEAD2; text-decoration: underline;\">\n",
    "    tiktokenizer\n",
    "</a>\n",
    "توکن‌های تولید شده برای جمله زیر را در هر یک از مدل‌های gpt2 و gpt4 و Meta-Llama-3-8B را مشاهده و تفاوت‌ها را گزارش کنید.\n",
    "<br>\n",
    "\"روزی یک مرد ثروتمند، پسر بچه کوچکش را بـه ده برد تا بـه او نشان دهد مردمی که در آنجا زندگی می‌کنند، چقدر فقیر هستند.\"\n",
    "<br>\n",
    "سپس در مورد توکنایزر استفاده شده در هر یک تحقیق کنید. به نظر شما علت تفاوت نتیجه آن‌ها در چیست؟\n",
    "</p>"
   ]
  },
  {
   "cell_type": "markdown",
   "metadata": {},
   "source": [
    "<p dir='rtl' style=\"line-height: 2.0; text-align: right; font-family: Vazir; font-size: 16px; margin-top: 20px; color: white; background-color:rgb(0, 40, 30); padding: 30px; border-radius: 8px;\">\n",
    "🎯 <b>خروجی مورد انتظار:</b><br>\n",
    "- توکن‌های ایجادشده با هر توکنایزر برای جمله\n",
    "</p>"
   ]
  },
  {
   "cell_type": "markdown",
   "metadata": {},
   "source": [
    "<p dir='rtl' style='background:#fffbe6; font-family: Vazir; border:1px dashed #f0ad4e; padding:12px; border-radius:8px; color:#111'>\n",
    "✍️ <b>پاسخ تشریحی زیربخش چهارم:</b><br>\n",
    "{{پاسخ_خود_را_اینجا_بنویسید}}\n",
    "</p>\n"
   ]
  },
  {
   "cell_type": "markdown",
   "metadata": {},
   "source": [
    "# <div style=\"text-align: center; direction: rtl; font-family: Vazir;\"><h1 align=\"center\" style=\"font-size: 24px; padding: 20px;\">⚜️━━━━━━━━━━━━━━━━━━━━━━━━━━━━━━━━━━━━━━━━━━━━━━━━━━━━━━━━━⚜️<br>سوال سوم - <span dir=\"ltr\">N-gram Language Modeling</span> (55)<br>⚜️━━━━━━━━━━━━━━━━━━━━━━━━━━━━━━━━━━━⚜️</h1></div>\n"
   ]
  },
  {
   "cell_type": "markdown",
   "metadata": {},
   "source": [
    "<p dir=\"rtl\" style=\"text-align: right; padding:30px; background-color:rgb(12, 12, 12); border-radius: 12px; color: white; font-family: Vazir;\">\n",
    "در این سوال، با N-gram Language Modeling و آن را پیاده‌سازی می‌کنید، با استفاده از آن به تولید متن می‌پردازید. سپس با معیار perplexity و نحوه کاربرد آن آشنا می‌شوید. در نهایت الگوریتم‌های smoothing و با کاربردهای آن آشنا می‌شوید. را پیاده‌سازی می‌کنید\n",
    "</p>\n"
   ]
  },
  {
   "cell_type": "markdown",
   "metadata": {},
   "source": [
    "## <div style=\"text-align: center; direction: rtl; font-family: Vazir;\">Data cleaning & Tokenization</div>\n"
   ]
  },
  {
   "cell_type": "markdown",
   "metadata": {},
   "source": [
    "<p dir=\"rtl\" style=\"line-height: 1.8; text-align: right; padding:10px; background-color:#6B7280;  border-radius: 12px; border: 2px solid rgb(2, 34, 22); font-family: Vazir;\">\n",
    "مجموعه داده \n",
    "<a href=\"https://huggingface.co/datasets/taesiri/TinyStories-Farsi\" target=\"_blank\" rel=\"noopener noreferrer\" style=\"color: #9EEAD2; text-decoration: underline;\">\n",
    "    TinyStories-Farsi\n",
    "</a>\n",
    "- که در سوال اول نیز از آن استفاده کردید - را لود کنید.\n",
    "<br>\n",
    "ابتدا دادگان فارسی در مجموعه آموزش (train) آن را تمیز کرده و پیش‌پردازش‌های مورد نیاز را بر روی آن انجام دهید. (با بررسی داده‌ها، مشخص‌کنید که این دادگان به چه پیش‌پردازش‌هایی نیاز دارند.)\n",
    "<br>\n",
    "سپس با استفاده از BPE Tokenizer که بر روی این دادگان آموزش‌داده‌اید، دادگان پردازش‌شده را توکنایز کنید.\n",
    "<br>\n",
    "توکن‌های یک جمله را به انتخاب خود، چاپ کنید.\n",
    "</p>\n"
   ]
  },
  {
   "cell_type": "markdown",
   "metadata": {},
   "source": [
    "<p dir='rtl' style=\"line-height: 2.0; text-align: right; font-family: Vazir; font-size: 16px; margin-top: 20px; color: white; background-color:rgb(0, 40, 30); padding: 30px; border-radius: 8px;\">\n",
    "🎯 <b>خروجی مورد انتظار:</b>\n",
    "<br>\n",
    "- مجموعه داده تمیزشده فارسی\n",
    "<br>\n",
    "- مجموعه داده توکنایز شده فارسی\n",
    "<br>\n",
    "- توکن‌های یک جمله‌ی دلخواه\n",
    "</p>"
   ]
  },
  {
   "cell_type": "code",
   "execution_count": null,
   "metadata": {},
   "outputs": [],
   "source": [
    "# WRITE YOUR CODE HERE\n"
   ]
  },
  {
   "cell_type": "markdown",
   "metadata": {},
   "source": [
    "<p dir='rtl' style='background:#fffbe6; font-family: Vazir; border:1px dashed #f0ad4e; padding:12px; border-radius:8px; color:#111'>\n",
    "✍️ <b>پاسخ تشریحی زیربخش اول:</b><br>\n",
    "{{پاسخ_خود_را_اینجا_بنویسید}}\n",
    "</p>\n"
   ]
  },
  {
   "cell_type": "markdown",
   "metadata": {},
   "source": [
    "## <div style=\"text-align: center; direction: rtl; font-family: Vazir;\">پیاده‌سازی N-gram</div>\n"
   ]
  },
  {
   "cell_type": "markdown",
   "metadata": {},
   "source": [
    "<p dir='rtl' style=\"line-height: 1.8; text-align: right; padding:10px; background-color:#6B7280;  border-radius: 12px; border: 2px solid rgb(2, 34, 22); font-family: Vazir;\">\n",
    "یک کلاس برای ساخت و آموزش N-gram بنویسید.\n",
    "<br>\n",
    "با استفاده از این کلاس و مجموعه داده توکنایز شده که در بخش قبل آماده کردید، \n",
    "<span dir=\"ltr\"> 2-gram, 4-gram, 8-gram</span>\n",
    "بسازید و روی مجموعه داده خود آموزش دهید.\n",
    "<br>\n",
    "با استفاده از مدل‌های آموزش داده شده، متن‌های 100 توکنی تولید کنید و کیفیت متون تولیدشده را با هم مقایسه کنید و تفاوت عملکرد مدل‌ها از نظر پیوستگی و روانی متون را تحلیل کنید.\n",
    "</p>"
   ]
  },
  {
   "cell_type": "markdown",
   "metadata": {},
   "source": [
    "<p dir='rtl' style=\"line-height: 2.0; text-align: right; font-family: Vazir; font-size: 16px; margin-top: 20px; color: white; background-color:rgb(0, 40, 30); padding: 30px; border-radius: 8px;\">\n",
    "🎯 <b>خروجی مورد انتظار:</b><br>\n",
    "- مدل‌های N-gram آموزش یافته\n",
    "<br>\n",
    "- متن‌های 100 توکنی تولیدشده با هر N-gram\n",
    "</p>"
   ]
  },
  {
   "cell_type": "code",
   "execution_count": null,
   "metadata": {},
   "outputs": [],
   "source": [
    "# WRITE YOUR CODE HERE\n"
   ]
  },
  {
   "cell_type": "markdown",
   "metadata": {},
   "source": [
    "<p dir='rtl' style='background:#fffbe6; font-family: Vazir; border:1px dashed #f0ad4e; padding:12px; border-radius:8px; color:#111'>\n",
    "✍️ <b>پاسخ تشریحی زیربخش دوم:</b><br>\n",
    "{{پاسخ_خود_را_اینجا_بنویسید}}\n",
    "</p>\n"
   ]
  },
  {
   "cell_type": "markdown",
   "metadata": {},
   "source": [
    "## <div style=\"text-align: center; direction: rtl; font-family: Vazir;\">معیار Perplexity</div>\n"
   ]
  },
  {
   "cell_type": "markdown",
   "metadata": {},
   "source": [
    "<p dir=\"rtl\" style=\"line-height: 1.8; text-align: right; padding:10px; background-color:#6B7280;  border-radius: 12px; border: 2px solid rgb(2, 34, 22); font-family: Vazir;\">\n",
    "ابتدا از مجموعه داده \n",
    "<a href=\"https://huggingface.co/datasets/taesiri/TinyStories-Farsi\" target=\"_blank\" rel=\"noopener noreferrer\" style=\"color: #9EEAD2; text-decoration: underline;\">\n",
    "    TinyStories-Farsi\n",
    "</a>\n",
    "دادگان validation فارسی را جدا کنید.\n",
    "<br>\n",
    "سپس معیار Perplexity را برای هر کدام از N-gram های خود، روی این مجموعه حساب کنید.\n",
    "<br>\n",
    "تحلیل خود را از این نتیجه بگویید.\n",
    "</p>\n"
   ]
  },
  {
   "cell_type": "markdown",
   "metadata": {},
   "source": [
    "<p dir='rtl' style=\"line-height: 2.0; text-align: right; font-family: Vazir; font-size: 16px; margin-top: 20px; color: white; background-color:rgb(0, 40, 30); padding: 30px; border-radius: 8px;\">\n",
    "🎯 <b>خروجی مورد انتظار:</b><br>\n",
    "- مجموعه دادگان فارسی validation\n",
    "<br>\n",
    "- نتیجه معیار Perplexity در هر N-gram\n",
    "</p>"
   ]
  },
  {
   "cell_type": "code",
   "execution_count": null,
   "metadata": {},
   "outputs": [],
   "source": [
    "# WRITE YOUR CODE HERE\n"
   ]
  },
  {
   "cell_type": "markdown",
   "metadata": {},
   "source": [
    "<p dir='rtl' style='background:#fffbe6; font-family: Vazir; border:1px dashed #f0ad4e; padding:12px; border-radius:8px; color:#111'>\n",
    "✍️ <b>پاسخ تشریحی زیربخش سوم:</b><br>\n",
    "{{پاسخ_خود_را_اینجا_بنویسید}}\n",
    "</p>\n"
   ]
  },
  {
   "cell_type": "markdown",
   "metadata": {},
   "source": [
    "<p dir='rtl' style=\"line-height: 1.8; text-align: right; padding:10px; background-color:#6B7280;  border-radius: 12px; border: 2px solid rgb(2, 34, 22); font-family: Vazir;\">\n",
    "در این قسمت چهار جمله در اختیار شما قرار گرفته است. استدلال کنید کدام جمله‌ها محتمل‌ترند که توسط یک <span dir=\"ltr\">4-gram</span> که روی داده‌های مشابه آموزش دیده‌است، تولید شده باشند.\n",
    "<br>\n",
    "جمله‌ی اول = آنها دوست داشتند در ماسه بازی کنند و جزر و مد آب را تماشا کنند\n",
    "<br>\n",
    "جمله‌ی دوم = جیل و تام به همراه مامان و بابا به ساحل رفتند\n",
    "<br>\n",
    "جمله‌ی سوم = تام بطری‌ نوشابه‌ را تا حد ممکن بالا انداخت و به سمت او فریاد زد\n",
    "<br>\n",
    "جمله‌ی چهارم = باری خیلی دوست داشت بیرون از منزل نقاشی کند و با پدربزرگ منظره تماشا کند\n",
    "</p>"
   ]
  },
  {
   "cell_type": "code",
   "execution_count": null,
   "metadata": {},
   "outputs": [],
   "source": []
  },
  {
   "cell_type": "markdown",
   "metadata": {},
   "source": [
    "<p dir='rtl' style='background:#fffbe6; font-family: Vazir; border:1px dashed #f0ad4e; padding:12px; border-radius:8px; color:#111'>\n",
    "✍️ <b>پاسخ تشریحی زیربخش چهارم:</b><br>\n",
    "{{پاسخ_خود_را_اینجا_بنویسید}}\n",
    "</p>\n"
   ]
  },
  {
   "cell_type": "markdown",
   "metadata": {},
   "source": [
    "## <div style=\"text-align: center; direction: rtl; font-family: Vazir;\">روش‌های هموارسازی</div>\n"
   ]
  },
  {
   "cell_type": "markdown",
   "metadata": {},
   "source": [
    "<p dir=\"rtl\" style=\"line-height: 1.8; text-align: right; padding:10px; background-color:#6B7280;  border-radius: 12px; border: 2px solid rgb(2, 34, 22); font-family: Vazir;\">\n",
    "هر کدام از الگوریتم‌های هموارسازی (Smoothing) که در درس خوانده‌اید (Laplace, Interpolation, Backoff) را پیاده‌سازی کنید.\n",
    "<br>\n",
    "یک مدل\n",
    "<span dir=\"ltr\">4-gram</span>\n",
    "بسازید و با مجموعه داده توکنایزشده فارسی که در بخش اول این سوال آماده کردید، آموزش دهید.\n",
    "(می‌توانید از مدل \n",
    "<span dir=\"ltr\">4-gram</span>\n",
    "آموزش‌یافته قبلی خود استفاده کنید.)\n",
    "<br>\n",
    "در الگوریتم Interpolation مقادیر λ را 0.4, 0.3, 0.2, 0.1 در نظر بگیرید. به این صورت:\n",
    "P​(w∣h3​,h2​,h1​)=0.4P​(w∣h3​,h2​,h1​)+0.3P​(w∣h2​,h1​)+0.2P​(w∣h1​)+0.1P​(w)\n",
    "<br>\n",
    "در الگوریتم Backoff مقدار λ را 0.4 در نظر بگیرید.\n",
    "<br>\n",
    "سپس با استفاده از هر یک از این روش‌ها، متن‌هایی به طول 100 توکن تولید کنید.\n",
    "<br>\n",
    "متن‌های تولیدشده را با یکدیگر مقایسه کنید و تفاوت آن‌ها را از نظر روانی و تنوع کلمات بررسی کنید.\n",
    "<br>\n",
    "در نهایت، با استفاده از احتمالات محاسبه‌شده در هر یک از این روش‌ها، معیار Perplexity را روی مجموعه دادگان فارسی validation - که در بخش سوم این سوال آماده کردید - حساب کنید.\n",
    "<br>\n",
    "مقادیر Perplexity برای هر کدام از روش‌های هموارسازی و مدل غیرهموار (Unsmoothed) را با یکدیگر مقایسه کنید و تحلیل خود را از این نتایج بگویید.\n",
    "</p>\n"
   ]
  },
  {
   "cell_type": "markdown",
   "metadata": {},
   "source": [
    "<p dir='rtl' style=\"line-height: 2.0; text-align: right; font-family: Vazir; font-size: 16px; margin-top: 20px; color: white; background-color:rgb(0, 40, 30); padding: 30px; border-radius: 8px;\">\n",
    "🎯 <b>خروجی مورد انتظار:</b><br>\n",
    "- متن‌های تولیدشده با هر یک از روش‌های هموارسازی ذکر شده\n",
    "<br>\n",
    "- معیار Perplexity برای هر یک از روش‌های هموارسازی ذکر شده\n",
    "</p>"
   ]
  },
  {
   "cell_type": "code",
   "execution_count": null,
   "metadata": {},
   "outputs": [],
   "source": [
    "# WRITE YOUR CODE HERE\n"
   ]
  },
  {
   "cell_type": "markdown",
   "metadata": {},
   "source": [
    "<p dir='rtl' style='background:#fffbe6; font-family: Vazir; border:1px dashed #f0ad4e; padding:12px; border-radius:8px; color:#111'>\n",
    "✍️ <b>پاسخ تشریحی زیربخش پنجم:</b><br>\n",
    "{{پاسخ_خود_را_اینجا_بنویسید}}\n",
    "</p>\n"
   ]
  },
  {
   "cell_type": "markdown",
   "metadata": {},
   "source": [
    "## <div style=\"text-align: center; direction: rtl; font-family: Vazir;\">پیاده‌سازی Temperature</div>\n"
   ]
  },
  {
   "cell_type": "markdown",
   "metadata": {},
   "source": [
    "<p dir=\"rtl\" style=\"line-height: 1.8; text-align: right; padding:10px; background-color:#6B7280;  border-radius: 12px; border: 2px solid rgb(2, 34, 22); font-family: Vazir;\">\n",
    "در مورد تاثیر Temperature در مدل‌های زبانی توضیح‌دهید.\n",
    "<br>\n",
    "به هنگام Sampling از N-gram، برای آن Temperature تعریف کنید و پیاده‌سازی‌های لازم را انجام دهید.\n",
    "<br>\n",
    "با قرار دادن کمترین Temperature و با بیشترین Temperature، سه‌بار خروجی‌هایی به طول ۲۰ توکن تولید کنید. (برای هر حالت سه‌بار) و سپس تاثیر Temperature در خروجی‌ها را تحلیل کنید.\n",
    "</p>\n"
   ]
  },
  {
   "cell_type": "markdown",
   "metadata": {},
   "source": [
    "<p dir='rtl' style=\"line-height: 2.0; text-align: right; font-family: Vazir; font-size: 16px; margin-top: 20px; color: white; background-color:rgb(0, 40, 30); padding: 30px; border-radius: 8px;\">\n",
    "🎯 <b>خروجی مورد انتظار:</b><br>\n",
    "- متن‌های تولید‌شده با Temperature بالا و پایین (برای هریک ۳ عدد متن تولید شده)\n",
    "</p>"
   ]
  },
  {
   "cell_type": "code",
   "execution_count": null,
   "metadata": {},
   "outputs": [],
   "source": [
    "# WRITE YOUR CODE HERE\n"
   ]
  },
  {
   "cell_type": "markdown",
   "metadata": {},
   "source": [
    "<p dir='rtl' style='background:#fffbe6; font-family: Vazir; border:1px dashed #f0ad4e; padding:12px; border-radius:8px; color:#111'>\n",
    "✍️ <b>پاسخ تشریحی زیربخش ششم:</b><br>\n",
    "{{پاسخ_خود_را_اینجا_بنویسید}}\n",
    "</p>\n"
   ]
  },
  {
   "cell_type": "markdown",
   "metadata": {
    "id": "policies_title"
   },
   "source": [
    "# <h1 style=\"text-align: right;\">**نکات مهم و قوانین تحویل**</h1>"
   ]
  },
  {
   "cell_type": "markdown",
   "metadata": {
    "id": "policies_body"
   },
   "source": [
    "\n",
    "<div dir=\"rtl\" style=\"font-family: Vazir; width: 85%; font-size: 16px; text-align: right;\">\n",
    "    <p style=\"text-align: right;\" dir=\"rtl\"><strong dir=\"rtl\">مهلت تحویل :</strong> 10 آبان</p>\n",
    "</div>\n",
    "<h4 dir=\"rtl\" style=\"font-family: Vazir; width: 85%;\">فایل ارسالی شما باید با فرمت زیر نامگذاری شود: <code>NLP_CA{n}_{LASTNAME}_{STUDENTID}.ipynb</code></h4>\n",
    "<h4 dir=\"rtl\" style=\"font-family: Vazir; width: 85%;\">نحوه انجام تمرین:</h4>\n",
    "<ul dir=\"rtl\" style=\"font-family: Vazir; width: 85%; font-size: 16px;\">\n",
    "  <li>سلول‌های کد با برچسب <code>WRITE YOUR CODE HERE</code> را تکمیل کنید.</li>\n",
    "  <li>برای پاسخ‌های متنی، متن <code>{{پاسخ_خود_را_اینجا_بنویسید}}</code> را با پاسخ خود جایگزین کنید.</li>\n",
    "</ul>\n",
    "<h4 dir=\"rtl\" style=\"font-family: Vazir; width: 85%;\">صداقت علمی:</h4> <ul dir=\"rtl\" style=\"font-family: Vazir; width: 85%; font-size: 16px;\"> <li>ما نوت‌بوک‌های تعداد مشخصی از دانشجویان که به صورت تصادفی انتخاب می‌شوند، بررسی خواهیم کرد. این بررسی‌ها اطمینان حاصل می‌کنند که کدی که نوشتید واقعاً پاسخ‌های موجود در نوت‌بوک شما را تولید می‌کند. اگر پاسخ‌های صحیح را در نوت‌بوک خود بدون کدی که واقعاً آن پاسخ‌ها را تولید کند تحویل دهید، این یک مورد جدی از عدم صداقت علمی محسوب می‌شود.</li> <li>ما همچنین بررسی‌های خودکاری را برای تشخیص سرقت علمی در نوت‌بوک‌های کولب انجام خواهیم داد. کپی کردن کد از دیگران نیز یک مورد جدی از عدم صداقت علمی محسوب می‌شود.</li> </ul>\n",
    "<h4 dir=\"rtl\" style=\"font-family: Vazir; width: 85%;\">توضیحات تکمیلی:</h4> <ul dir=\"rtl\" style=\"font-family: Vazir; width: 85%; font-size: 16px;\">\n",
    "<li>\n",
    "خوانایی و دقت بررسی‌ها در گزارش نهایی از اهمیت ویژه‌ای برخوردار است. به تمرین‌هایی که به صورت کاغذی تحویل داده شوند یا به صورت عکس در سایت بارگذاری شوند، ترتیب اثری داده نخواهد شد.</li>\n",
    "<li>\n",
    " همه‌ی کدهای پیوست گزارش بایستی قابلیت اجرای مجدد داشته باشند. در صورتی که برای اجرا مجدد آن‌ها نیاز به تنظیمات خاصی می‌باشد، بایستی تنظیمات مورد نیاز را نیز در گزارش خود ذکر کنید.  دقت کنید که  تمامی کدها باید توسط شما اجرا شده باشند و نتایج اجرا در فایل کدهای ارسالی مشخص باشد. به کدهایی که نتایج اجرای آن‌ها در فایل ارسالی مشخص نباشد نمره‌ای تعلق نمی‌گیرد.\n",
    "</li>\n",
    "<li>توجه کنید این تمرین باید به صورت تک‌نفره انجام شود و پاسخ‌های ارائه شده باید نتیجه فعالیت فرد نویسنده باشد (همفکری و به اتفاق هم نوشتن تمرین نیز ممنوع است). در صورت مشاهده\n",
    " تشابه به همه افراد مشارکت‌کننده، نمره تمرین صفر و به استاد گزارش می‌گردد.\n",
    " </li>\n",
    "\n",
    " <li>\n",
    "لطفاً تمامی پاسخ‌های متنی خود را با <b>فونت وزیر (Vazir)</b> و به‌صورت <b>راست‌چین</b> بنویسید.  \n",
    "از استفاده از فونت‌های پیش‌فرض خودداری کنید تا ظاهر نوت‌بوک شما یک‌دست و خوانا باشد.  \n",
    "در بخش‌های تشریحی، سعی کنید پاسخ‌ها را کامل، منسجم و با رعایت نگارش فارسی بنویسید.  \n",
    "همچنین، به چینش تمیز سلول‌ها و اجرای درست کدها توجه کنید تا تمرین شما با فرمت خواسته‌شده و استاندارد ارائه شود.\n",
    "</li>\n",
    " <li>برای مطالعه بیشتر درباره‌ی فرمت Markdown می‌توانید از <a href=\"https://github.com/tajaddini/Persian-Markdown/blob/master/learn-MD.md\">این لینک</a> مطالعه کنید.\n",
    " </li>\n",
    " </ul>\n",
    "    \n",
    "\n",
    " </div>\n"
   ]
  }
 ],
 "metadata": {
  "colab": {
   "collapsed_sections": [
    "section2_title",
    "section3_title",
    "section4_title",
    "eval_title",
    "policies_title"
   ],
   "provenance": []
  },
  "kernelspec": {
   "display_name": ".venv",
   "language": "python",
   "name": "python3"
  },
  "language_info": {
   "codemirror_mode": {
    "name": "ipython",
    "version": 3
   },
   "file_extension": ".py",
   "mimetype": "text/x-python",
   "name": "python",
   "nbconvert_exporter": "python",
   "pygments_lexer": "ipython3",
   "version": "3.12.10"
  }
 },
 "nbformat": 4,
 "nbformat_minor": 4
}
